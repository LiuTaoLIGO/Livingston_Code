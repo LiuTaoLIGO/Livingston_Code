{
 "cells": [
  {
   "cell_type": "code",
   "execution_count": 1,
   "id": "48bad9ef",
   "metadata": {},
   "outputs": [],
   "source": [
    "import numpy as np\n",
    "import matplotlib as mpl\n",
    "import matplotlib.pyplot as plt\n",
    "import finesse\n",
    "from finesse.analysis.actions import RunLocks, Noxaxis, Xaxis\n",
    "\n",
    "finesse.configure(plotting=True)"
   ]
  },
  {
   "cell_type": "code",
   "execution_count": 19,
   "id": "5e690597",
   "metadata": {},
   "outputs": [
    {
     "name": "stdout",
     "output_type": "stream",
     "text": [
      "\n",
      "##################### The results: #####################\n",
      "The input power is 125.0 W\n",
      "\n",
      "The reflected power with tunings is 4.3589962289491957e-07 W\n",
      "The reflected power with DARM DC is 4.3589962289491957e-07 W\n",
      "\n",
      "The power at AS with tunings is 124.99999956410039 W\n",
      "The power at AS with DARM is 124.99999956410039 W\n"
     ]
    }
   ],
   "source": [
    "kat = finesse.Model()\n",
    "kat.parse(\n",
    "    \"\"\"\n",
    "    ###########################################################################\n",
    "    ###   Variables\n",
    "    ###########################################################################\n",
    "    var Larm 2500\n",
    "    var tuning 0.0033834586466165405/2\n",
    "\n",
    "    ###########################################################################\n",
    "    ###   Input optics\n",
    "    ###########################################################################\n",
    "    l L0 125\n",
    "    s s0 L0.p1 bs.p1\n",
    "    \n",
    "    bs bs T=0.5 L=0 alpha=45\n",
    "\n",
    "    ###########################################################################\n",
    "    ###   X arm\n",
    "    ###########################################################################\n",
    "    s LX bs.p3 etmx.p1 L=&Larm\n",
    "    m etmx T=0 L=0 phi=-&tuning\n",
    "\n",
    "    ###########################################################################\n",
    "    ###   Y arm\n",
    "    ###########################################################################\n",
    "    s LY bs.p2 etmy.p1 L=&Larm\n",
    "    m etmy T=0 L=0 phi=&tuning\n",
    "    \n",
    "    dof DARM etmx.dofs.z -1 etmy.dofs.z +1\n",
    "    \"\"\"\n",
    ")\n",
    "\n",
    "kat.parse(\"\"\"\n",
    "\n",
    "parallel(\n",
    "    noxaxis(name='tuning'),\n",
    "    \n",
    "    series(\n",
    "    change(tuning.value=0),\n",
    "    change(DARM.DC=0.0033834586466165405/2),\n",
    "    noxaxis(name='DARM_DC'),\n",
    "    )\n",
    ")\n",
    "\n",
    "pd Pin bs.p1.i\n",
    "pd PRefl bs.p1.o\n",
    "pd Pout bs.p4.o\n",
    "\"\"\")                                          \n",
    "\n",
    "outtest = kat.run()\n",
    "\n",
    "print()\n",
    "print(\"##################### The results: #####################\")\n",
    "print(f\"The input power is {outtest['tuning']['Pin']} W\")\n",
    "\n",
    "print()\n",
    "print(f\"The reflected power with tunings is {outtest['tuning']['PRefl']} W\")\n",
    "print(f\"The reflected power with DARM DC is {outtest['series']['DARM_DC']['PRefl']} W\")\n",
    "\n",
    "print()\n",
    "print(f\"The power at AS with tunings is {outtest['tuning']['Pout']} W\")\n",
    "print(f\"The power at AS with DARM is {outtest['series']['DARM_DC']['Pout']} W\")"
   ]
  },
  {
   "cell_type": "code",
   "execution_count": 20,
   "id": "89b5f481",
   "metadata": {},
   "outputs": [
    {
     "name": "stdout",
     "output_type": "stream",
     "text": [
      "- Solution Tree\n",
      "○ parallel - ParallelSolution\n",
      "├──● tuning - ArraySolution\n",
      "╰──○ series\n",
      "   ╰──● DARM_DC - ArraySolution\n"
     ]
    }
   ],
   "source": [
    "print(outtest)"
   ]
  },
  {
   "cell_type": "code",
   "execution_count": 139,
   "id": "30b14e19",
   "metadata": {},
   "outputs": [
    {
     "data": {
      "text/plain": [
       "0.0033834586466165405"
      ]
     },
     "execution_count": 139,
     "metadata": {},
     "output_type": "execute_result"
    }
   ],
   "source": [
    "10e-12/1064e-9*360"
   ]
  },
  {
   "cell_type": "code",
   "execution_count": 16,
   "id": "14dcf8df",
   "metadata": {},
   "outputs": [
    {
     "data": {
      "text/plain": [
       "4.3589962195333953e-07"
      ]
     },
     "execution_count": 16,
     "metadata": {},
     "output_type": "execute_result"
    }
   ],
   "source": [
    "L = 10e-12\n",
    "lambdaa = 1064e-9\n",
    "P0 = 125\n",
    "P0*(1-(np.cos(2*np.pi*L/lambdaa))**2)"
   ]
  },
  {
   "cell_type": "code",
   "execution_count": null,
   "id": "d007aa9a",
   "metadata": {},
   "outputs": [],
   "source": []
  },
  {
   "cell_type": "code",
   "execution_count": null,
   "id": "7f2c5aa6",
   "metadata": {},
   "outputs": [],
   "source": []
  },
  {
   "cell_type": "code",
   "execution_count": null,
   "id": "4dbdd89e",
   "metadata": {},
   "outputs": [],
   "source": []
  }
 ],
 "metadata": {
  "kernelspec": {
   "display_name": "Python 3 (ipykernel)",
   "language": "python",
   "name": "python3"
  },
  "language_info": {
   "codemirror_mode": {
    "name": "ipython",
    "version": 3
   },
   "file_extension": ".py",
   "mimetype": "text/x-python",
   "name": "python",
   "nbconvert_exporter": "python",
   "pygments_lexer": "ipython3",
   "version": "3.8.12"
  }
 },
 "nbformat": 4,
 "nbformat_minor": 5
}
