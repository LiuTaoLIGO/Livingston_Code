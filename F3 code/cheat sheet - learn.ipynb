{
 "cells": [
  {
   "cell_type": "code",
   "execution_count": 1,
   "id": "84807371",
   "metadata": {},
   "outputs": [],
   "source": [
    "from __future__ import print_function, division\n",
    "from sympy import *\n",
    "a, s, t, u, v, w, x, y, z = symbols(\"a, s, t, u, v, w, x, y, z\")\n",
    "k, m, n = symbols(\"k, m, n\", integer=True)\n",
    "f, g, h = symbols(\"f, g, h\", cls=Function)\n",
    "init_printing()"
   ]
  },
  {
   "cell_type": "code",
   "execution_count": 2,
   "id": "a7b409a5",
   "metadata": {},
   "outputs": [
    {
     "data": {
      "image/png": "[encoded data removed]",
      "text/latex": [
       "$\\displaystyle \\sin{\\left(x \\right)}$"
      ],
      "text/plain": [
       "sin(x)"
      ]
     },
     "execution_count": 2,
     "metadata": {},
     "output_type": "execute_result"
    }
   ],
   "source": [
    "integral = integrate(cos(x), x)\n",
    "integral"
   ]
  },
  {
   "cell_type": "code",
   "execution_count": 3,
   "id": "a360e7bb",
   "metadata": {},
   "outputs": [
    {
     "data": {
      "image/png": "[encoded data removed]",
      "text/latex": [
       "$\\displaystyle \\ell_{max}^{2} + 2 \\ell_{max} - \\ell_{min}^{2} + 1$"
      ],
      "text/plain": [
       "      2                    2    \n",
       "ellₘₐₓ  + 2⋅ellₘₐₓ - ellₘᵢₙ  + 1"
      ]
     },
     "execution_count": 3,
     "metadata": {},
     "output_type": "execute_result"
    }
   ],
   "source": [
    "ell_min,ell,ell_max = symbols(\"ell_min,ell,ell_max\", integer=True)\n",
    "summ = summation((2*ell + 1), (ell, ell_min, ell_max))\n",
    "summ"
   ]
  },
  {
   "cell_type": "code",
   "execution_count": 5,
   "id": "90fe574c",
   "metadata": {},
   "outputs": [
    {
     "data": {
      "image/png": "[encoded data removed]",
      "text/latex": [
       "$\\displaystyle - \\frac{x^{5}}{15} - \\frac{x^{4}}{8} + \\frac{x^{2}}{2} + x + 1$"
      ],
      "text/plain": [
       "   5    4    2        \n",
       "  x    x    x         \n",
       "- ── - ── + ── + x + 1\n",
       "  15   8    2         "
      ]
     },
     "execution_count": 5,
     "metadata": {},
     "output_type": "execute_result"
    }
   ],
   "source": [
    "expr = exp(sin(x))\n",
    "ser = series(expr, x, 0, 6).removeO()\n",
    "ser"
   ]
  },
  {
   "cell_type": "code",
   "execution_count": 10,
   "id": "2fa5213a",
   "metadata": {},
   "outputs": [
    {
     "data": {
      "image/png": "[encoded data removed]",
      "text/latex": [
       "$\\displaystyle \\left[ 0, \\  \\frac{4}{3} + \\left(- \\frac{1}{2} - \\frac{\\sqrt{3} i}{2}\\right) \\sqrt[3]{\\frac{\\sqrt{321}}{18} + \\frac{83}{54}} + \\frac{10}{9 \\left(- \\frac{1}{2} - \\frac{\\sqrt{3} i}{2}\\right) \\sqrt[3]{\\frac{\\sqrt{321}}{18} + \\frac{83}{54}}}, \\  \\frac{4}{3} + \\frac{10}{9 \\left(- \\frac{1}{2} + \\frac{\\sqrt{3} i}{2}\\right) \\sqrt[3]{\\frac{\\sqrt{321}}{18} + \\frac{83}{54}}} + \\left(- \\frac{1}{2} + \\frac{\\sqrt{3} i}{2}\\right) \\sqrt[3]{\\frac{\\sqrt{321}}{18} + \\frac{83}{54}}, \\  \\frac{10}{9 \\sqrt[3]{\\frac{\\sqrt{321}}{18} + \\frac{83}{54}}} + \\frac{4}{3} + \\sqrt[3]{\\frac{\\sqrt{321}}{18} + \\frac{83}{54}}\\right]$"
      ],
      "text/plain": [
       "⎡                        ___________                                          \n",
       "⎢   4   ⎛  1   √3⋅ⅈ⎞    ╱ √321   83                  10                4      \n",
       "⎢0, ─ + ⎜- ─ - ────⎟⋅3 ╱  ──── + ──  + ──────────────────────────────, ─ + ───\n",
       "⎢   3   ⎝  2    2  ⎠ ╲╱    18    54                       ___________  3      \n",
       "⎢                                        ⎛  1   √3⋅ⅈ⎞    ╱ √321   83         ⎛\n",
       "⎢                                      9⋅⎜- ─ - ────⎟⋅3 ╱  ──── + ──       9⋅⎜\n",
       "⎣                                        ⎝  2    2  ⎠ ╲╱    18    54         ⎝\n",
       "\n",
       "                                               ___________                    \n",
       "           10                 ⎛  1   √3⋅ⅈ⎞    ╱ √321   83           10        \n",
       "─────────────────────────── + ⎜- ─ + ────⎟⋅3 ╱  ──── + ── , ───────────────── \n",
       "                ___________   ⎝  2    2  ⎠ ╲╱    18    54         ___________ \n",
       "  1   √3⋅ⅈ⎞    ╱ √321   83                                       ╱ √321   83  \n",
       "- ─ + ────⎟⋅3 ╱  ──── + ──                                  9⋅3 ╱  ──── + ──  \n",
       "  2    2  ⎠ ╲╱    18    54                                    ╲╱    18    54  \n",
       "\n",
       "          ___________⎤\n",
       "  4      ╱ √321   83 ⎥\n",
       "+ ─ + 3 ╱  ──── + ── ⎥\n",
       "  3   ╲╱    18    54 ⎥\n",
       "                     ⎥\n",
       "                     ⎥\n",
       "                     ⎦"
      ]
     },
     "execution_count": 10,
     "metadata": {},
     "output_type": "execute_result"
    }
   ],
   "source": [
    "expr = x**4 - 4*x**3 + 2*x**2 - x\n",
    "eqn = Eq(expr, 0)\n",
    "soln = solve(eqn, x)\n",
    "soln"
   ]
  },
  {
   "cell_type": "code",
   "execution_count": 12,
   "id": "8aa867d1",
   "metadata": {},
   "outputs": [
    {
     "data": {
      "image/png": "[encoded data removed]",
      "text/latex": [
       "$\\displaystyle \\left[ \\left( 1, \\  3\\right), \\  \\left( 3, \\  1\\right)\\right]$"
      ],
      "text/plain": [
       "[(1, 3), (3, 1)]"
      ]
     },
     "execution_count": 12,
     "metadata": {},
     "output_type": "execute_result"
    }
   ],
   "source": [
    "eqns = Eq(x + y, 4), Eq(x*y, 3)\n",
    "soln = solve(eqns, [x,y])\n",
    "soln"
   ]
  },
  {
   "cell_type": "code",
   "execution_count": 13,
   "id": "c149c797",
   "metadata": {},
   "outputs": [
    {
     "data": {
      "image/png": "[encoded data removed]",
      "text/latex": [
       "$\\displaystyle f{\\left(x \\right)} = C_{1} \\sin{\\left(3 x \\right)} + C_{2} \\cos{\\left(3 x \\right)} + \\frac{1}{9}$"
      ],
      "text/plain": [
       "f(x) = C₁⋅sin(3⋅x) + C₂⋅cos(3⋅x) + 1/9"
      ]
     },
     "execution_count": 13,
     "metadata": {},
     "output_type": "execute_result"
    }
   ],
   "source": [
    "expr = f(x).diff(x, x) + 9*f(x)\n",
    "eqn = Eq(expr, 1)  # f''(x) + 9f(x) = 1\n",
    "soln = dsolve(eqn, f(x))\n",
    "soln"
   ]
  },
  {
   "cell_type": "code",
   "execution_count": 15,
   "id": "91634441",
   "metadata": {},
   "outputs": [
    {
     "data": {
      "image/png": "[encoded data removed]",
      "text/latex": [
       "$\\displaystyle \\sin{\\left(x \\right)} \\cos{\\left(y \\right)} + \\sin{\\left(y \\right)} \\cos{\\left(x \\right)}$"
      ],
      "text/plain": [
       "sin(x)⋅cos(y) + sin(y)⋅cos(x)"
      ]
     },
     "execution_count": 15,
     "metadata": {},
     "output_type": "execute_result"
    }
   ],
   "source": [
    "expr = sin(x + y)\n",
    "expr = expand(expr, trig=True)\n",
    "expr"
   ]
  },
  {
   "cell_type": "code",
   "execution_count": 16,
   "id": "da67c9c0",
   "metadata": {},
   "outputs": [
    {
     "data": {
      "image/png": "[encoded data removed]",
      "text/latex": [
       "$\\displaystyle x - 1$"
      ],
      "text/plain": [
       "x - 1"
      ]
     },
     "execution_count": 16,
     "metadata": {},
     "output_type": "execute_result"
    }
   ],
   "source": [
    "expr = (x**3 + x**2 - x - 1)/(x**2 + 2*x + 1)\n",
    "expr = simplify(expr)\n",
    "expr"
   ]
  },
  {
   "cell_type": "code",
   "execution_count": 17,
   "id": "3499e041",
   "metadata": {},
   "outputs": [
    {
     "data": {
      "image/png": "[encoded data removed]",
      "text/latex": [
       "$\\displaystyle 6.7882250993908559830333124868025412741932454876392$"
      ],
      "text/plain": [
       "6.7882250993908559830333124868025412741932454876392"
      ]
     },
     "execution_count": 17,
     "metadata": {},
     "output_type": "execute_result"
    }
   ],
   "source": [
    "expr = x * sqrt(8)\n",
    "precision = 50\n",
    "val = N(expr, precision, subs={x:2.4})\n",
    "val"
   ]
  },
  {
   "cell_type": "code",
   "execution_count": 18,
   "id": "b1028192",
   "metadata": {},
   "outputs": [
    {
     "data": {
      "image/png": "[encoded data removed]",
      "text/latex": [
       "$\\displaystyle \\pi y + 1$"
      ],
      "text/plain": [
       "π⋅y + 1"
      ]
     },
     "execution_count": 18,
     "metadata": {},
     "output_type": "execute_result"
    }
   ],
   "source": [
    "expr = 1 + x * y\n",
    "expr = expr.subs(x, pi)\n",
    "expr"
   ]
  },
  {
   "cell_type": "code",
   "execution_count": null,
   "id": "0d7d7e75",
   "metadata": {},
   "outputs": [],
   "source": []
  },
  {
   "cell_type": "code",
   "execution_count": null,
   "id": "00818ca1",
   "metadata": {},
   "outputs": [],
   "source": []
  },
  {
   "cell_type": "code",
   "execution_count": null,
   "id": "f3d5803e",
   "metadata": {},
   "outputs": [],
   "source": []
  },
  {
   "cell_type": "code",
   "execution_count": null,
   "id": "490852db",
   "metadata": {},
   "outputs": [],
   "source": []
  },
  {
   "cell_type": "code",
   "execution_count": null,
   "id": "d6189af8",
   "metadata": {},
   "outputs": [],
   "source": []
  },
  {
   "cell_type": "code",
   "execution_count": null,
   "id": "b73bfe44",
   "metadata": {},
   "outputs": [],
   "source": []
  }
 ],
 "metadata": {
  "kernelspec": {
   "display_name": "Python 3 (ipykernel)",
   "language": "python",
   "name": "python3"
  },
  "language_info": {
   "codemirror_mode": {
    "name": "ipython",
    "version": 3
   },
   "file_extension": ".py",
   "mimetype": "text/x-python",
   "name": "python",
   "nbconvert_exporter": "python",
   "pygments_lexer": "ipython3",
   "version": "3.8.12"
  },
  "latex_envs": {
   "LaTeX_envs_menu_present": true,
   "autoclose": false,
   "autocomplete": true,
   "bibliofile": "biblio.bib",
   "cite_by": "apalike",
   "current_citInitial": 1,
   "eqLabelWithNumbers": true,
   "eqNumInitial": 1,
   "hotkeys": {
    "equation": "Ctrl-E",
    "itemize": "Ctrl-I"
   },
   "labels_anchors": false,
   "latex_user_defs": false,
   "report_style_numbering": false,
   "user_envs_cfg": false
  },
  "varInspector": {
   "cols": {
    "lenName": 16,
    "lenType": 16,
    "lenVar": 40
   },
   "kernels_config": {
    "python": {
     "delete_cmd_postfix": "",
     "delete_cmd_prefix": "del ",
     "library": "var_list.py",
     "varRefreshCmd": "print(var_dic_list())"
    },
    "r": {
     "delete_cmd_postfix": ") ",
     "delete_cmd_prefix": "rm(",
     "library": "var_list.r",
     "varRefreshCmd": "cat(var_dic_list()) "
    }
   },
   "types_to_exclude": [
    "module",
    "function",
    "builtin_function_or_method",
    "instance",
    "_Feature"
   ],
   "window_display": false
  }
 },
 "nbformat": 4,
 "nbformat_minor": 5
}
