{
 "cells": [
  {
   "cell_type": "code",
   "execution_count": 36,
   "id": "48bad9ef",
   "metadata": {},
   "outputs": [],
   "source": [
    "import numpy as np\n",
    "import matplotlib as mpl\n",
    "import matplotlib.pyplot as plt\n",
    "import finesse\n",
    "from finesse.analysis.actions import RunLocks, Noxaxis, Xaxis\n",
    "from finesse import ligo\n",
    "from LLOF3NoOutputSqz import make_LLO\n",
    "\n",
    "\n",
    "\n",
    "finesse.configure(plotting=True)"
   ]
  },
  {
   "cell_type": "code",
   "execution_count": 37,
   "id": "e5dae00c",
   "metadata": {},
   "outputs": [],
   "source": [
    "LLONoOutput = finesse.Model()\n",
    "LLONoOutput.parse_file(\"./LIGO_degisn_no_Output.txt\")\n",
    "\n",
    "LLONoOutput = make_LLO(LLONoOutput)"
   ]
  },
  {
   "cell_type": "code",
   "execution_count": 71,
   "id": "94fd0cb9",
   "metadata": {},
   "outputs": [
    {
     "data": {
      "text/plain": [
       "3.0741239420183246e-05"
      ]
     },
     "execution_count": 71,
     "metadata": {},
     "output_type": "execute_result"
    }
   ],
   "source": [
    "LLO = LLONoOutput.deepcopy()\n",
    "\n",
    "LLO.mod1.midx = 1e-9\n",
    "LLO.mod2.midx = 1e-9\n",
    "LLO.DARM.DC = 0.0033834586466165405/2\n",
    "\n",
    "LLO.L0.P = 35\n",
    "LLO.parse(\"\"\"\n",
    "var freq 100\n",
    "\n",
    "ad ASC2 SRMAR.p2.o f=&freq\n",
    "ad ASC3 SRMAR.p2.o f=0\n",
    "\n",
    "pd1 ASC SRMAR.p2.o f=&freq\n",
    "pd1 ASC1 SRMAR.p2.o f=-100\n",
    "\n",
    "\n",
    "laser L1 P=2.3443e-8 f=&freq\n",
    "s sL1 L1.p1 SRMAR.p2\n",
    "\n",
    "\"\"\")\n",
    "\n",
    "# out = LLO.run(Noxaxis(pre_step=RunLocks(method='newton', \n",
    "#                                             display_progress=True,\n",
    "#                                             max_iterations=1000)))\n",
    "\n",
    "out = LLO.run(Noxaxis())\n",
    "\n",
    "np.abs(out[\"ASC\"])"
   ]
  },
  {
   "cell_type": "code",
   "execution_count": 72,
   "id": "64c3a919",
   "metadata": {},
   "outputs": [
    {
     "data": {
      "text/plain": [
       "2.3369064862312882e-08"
      ]
     },
     "execution_count": 72,
     "metadata": {},
     "output_type": "execute_result"
    }
   ],
   "source": [
    "np.abs(out[\"ASC2\"])**2"
   ]
  },
  {
   "cell_type": "code",
   "execution_count": 73,
   "id": "ecf7343d",
   "metadata": {},
   "outputs": [
    {
     "data": {
      "text/plain": [
       "0.04043909359047831"
      ]
     },
     "execution_count": 73,
     "metadata": {},
     "output_type": "execute_result"
    }
   ],
   "source": [
    "np.abs(out[\"ASC3\"])**2"
   ]
  },
  {
   "cell_type": "code",
   "execution_count": 66,
   "id": "c8719aaa",
   "metadata": {},
   "outputs": [
    {
     "data": {
      "text/plain": [
       "2.8394209175365142e-05"
      ]
     },
     "execution_count": 66,
     "metadata": {},
     "output_type": "execute_result"
    }
   ],
   "source": [
    "np.abs(out[\"ASC1\"])"
   ]
  },
  {
   "cell_type": "code",
   "execution_count": null,
   "id": "9e1563bc",
   "metadata": {},
   "outputs": [],
   "source": []
  },
  {
   "cell_type": "code",
   "execution_count": null,
   "id": "cd344590",
   "metadata": {},
   "outputs": [],
   "source": []
  },
  {
   "cell_type": "code",
   "execution_count": null,
   "id": "33f7f3f5",
   "metadata": {},
   "outputs": [],
   "source": []
  }
 ],
 "metadata": {
  "kernelspec": {
   "display_name": "Python 3 (ipykernel)",
   "language": "python",
   "name": "python3"
  },
  "language_info": {
   "codemirror_mode": {
    "name": "ipython",
    "version": 3
   },
   "file_extension": ".py",
   "mimetype": "text/x-python",
   "name": "python",
   "nbconvert_exporter": "python",
   "pygments_lexer": "ipython3",
   "version": "3.8.12"
  }
 },
 "nbformat": 4,
 "nbformat_minor": 5
}
