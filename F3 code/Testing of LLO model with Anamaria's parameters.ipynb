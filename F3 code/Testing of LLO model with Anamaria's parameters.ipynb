{
 "cells": [
  {
   "cell_type": "code",
   "execution_count": 1,
   "id": "48bad9ef",
   "metadata": {},
   "outputs": [],
   "source": [
    "import numpy as np\n",
    "import matplotlib as mpl\n",
    "import matplotlib.pyplot as plt\n",
    "import finesse\n",
    "from finesse.analysis.actions import RunLocks, Noxaxis, Xaxis\n",
    "from finesse import ligo\n",
    "# from LLOF3NoSqz_Anamaria import make_LLOANA\n",
    "from LLOF3NoSqz import make_LLO\n",
    "\n",
    "\n",
    "finesse.configure(plotting=True)"
   ]
  },
  {
   "cell_type": "code",
   "execution_count": 2,
   "id": "e5dae00c",
   "metadata": {},
   "outputs": [],
   "source": [
    "LIGO = finesse.Model()\n",
    "LIGO.parse_file(\"./LIGO_degisn.txt\")\n",
    "\n",
    "# LLOANA = make_LLOANA(LIGO.deepcopy())\n",
    "LLObase = make_LLO(LIGO.deepcopy())"
   ]
  },
  {
   "cell_type": "code",
   "execution_count": 3,
   "id": "58be89b5",
   "metadata": {},
   "outputs": [
    {
     "data": {
      "text/plain": [
       "(<L0.P=40.0 @ 0x112edc340>, <lmich.value=5.342 @ 0x15b2bbb80>)"
      ]
     },
     "execution_count": 3,
     "metadata": {},
     "output_type": "execute_result"
    }
   ],
   "source": [
    "LLObase.L0.P, LLObase.lmich.value"
   ]
  },
  {
   "cell_type": "code",
   "execution_count": 4,
   "id": "583a7351",
   "metadata": {},
   "outputs": [
    {
     "name": "stdout",
     "output_type": "stream",
     "text": [
      "╒════════════════════════════╤════════════════╤════════════════╕\n",
      "│ Coupling                   │   Mismatch (x) │   Mismatch (y) │\n",
      "╞════════════════════════════╪════════════════╪════════════════╡\n",
      "│ BS.p1.i -> BS.p2.o         │    2.91307e-05 │    3.30789e-05 │\n",
      "├────────────────────────────┼────────────────┼────────────────┤\n",
      "│ BS.p2.i -> BS.p1.o         │    2.91307e-05 │    3.30789e-05 │\n",
      "├────────────────────────────┼────────────────┼────────────────┤\n",
      "│ BS.p2.i -> BS.p4.o         │    4.27427e-05 │    0.000637753 │\n",
      "├────────────────────────────┼────────────────┼────────────────┤\n",
      "│ BS.p3.i -> BS.p4.o         │    6.75304e-05 │    0.000448204 │\n",
      "├────────────────────────────┼────────────────┼────────────────┤\n",
      "│ BS.p4.i -> BS.p3.o         │    6.75304e-05 │    0.000448204 │\n",
      "├────────────────────────────┼────────────────┼────────────────┤\n",
      "│ BS.p4.i -> BS.p2.o         │    4.27427e-05 │    0.000637753 │\n",
      "├────────────────────────────┼────────────────┼────────────────┤\n",
      "│ ITMX.p1.i -> ITMX.p2.o     │    5.2382e-05  │    0.000115858 │\n",
      "├────────────────────────────┼────────────────┼────────────────┤\n",
      "│ ITMX.p2.i -> ITMX.p1.o     │    5.2382e-05  │    0.000115858 │\n",
      "├────────────────────────────┼────────────────┼────────────────┤\n",
      "│ ITMY.p1.i -> ITMY.p2.o     │    0.000126384 │    4.03857e-05 │\n",
      "├────────────────────────────┼────────────────┼────────────────┤\n",
      "│ ITMY.p2.i -> ITMY.p1.o     │    0.000126384 │    4.03857e-05 │\n",
      "├────────────────────────────┼────────────────┼────────────────┤\n",
      "│ OMC_IC.p1.i -> OMC_IC.p3.o │    0.0217916   │    0.0251652   │\n",
      "├────────────────────────────┼────────────────┼────────────────┤\n",
      "│ OMC_IC.p2.i -> OMC_IC.p4.o │    0.0217916   │    0.0251652   │\n",
      "├────────────────────────────┼────────────────┼────────────────┤\n",
      "│ OMC_IC.p3.i -> OMC_IC.p1.o │    0.0217916   │    0.0251652   │\n",
      "├────────────────────────────┼────────────────┼────────────────┤\n",
      "│ OMC_IC.p4.i -> OMC_IC.p2.o │    0.0217916   │    0.0251652   │\n",
      "╘════════════════════════════╧════════════════╧════════════════╛\n"
     ]
    }
   ],
   "source": [
    "LLObase.print_mismatches()"
   ]
  },
  {
   "cell_type": "code",
   "execution_count": 5,
   "id": "5960f0ab",
   "metadata": {},
   "outputs": [
    {
     "data": {
      "text/plain": [
       "(array([11.009, 11.009]),\n",
       " array([-4.545, -4.545]),\n",
       " array([36.027, 36.027]),\n",
       " array([-5.673, -5.673]),\n",
       " array([-6.406, -6.406]),\n",
       " array([35.97, 35.97]),\n",
       " array([2247.71, 2247.71]),\n",
       " array([2245.4, 2245.4]),\n",
       " array([-1937.9, -1937.9]),\n",
       " array([-1940.7, -1940.7]))"
      ]
     },
     "execution_count": 5,
     "metadata": {},
     "output_type": "execute_result"
    }
   ],
   "source": [
    "LLObase.PRM.Rc, LLObase.PR2.Rc, LLObase.PR3.Rc, LLObase.SRM.Rc, LLObase.SR2.Rc, LLObase.SR3.Rc, \\\n",
    "LLObase.ETMX.Rc, LLObase.ETMY.Rc, LLObase.ITMX.Rc, LLObase.ITMY.Rc,"
   ]
  },
  {
   "cell_type": "code",
   "execution_count": 6,
   "id": "dc50e6f4",
   "metadata": {
    "code_folding": []
   },
   "outputs": [
    {
     "data": {
      "text/plain": [
       "(<L0.P=40.0 @ 0x15b1b0e80>, <lmich.value=5.342 @ 0x15b5be700>)"
      ]
     },
     "execution_count": 6,
     "metadata": {},
     "output_type": "execute_result"
    }
   ],
   "source": [
    "# Anamaria's numbers\n",
    "LLO = LLObase.deepcopy()\n",
    "# LLO.lp1.L = 16.609     # PRM to PR2\n",
    "# LLO.lp2.L = 16.166     # PR2 to PR3\n",
    "# LLO.lp3.L = 19.538     # PR3 to BS\n",
    "\n",
    "# LLO.ls3.L = 19.452\n",
    "# LLO.ls2.L = 15.457\n",
    "# LLO.ls1.L = 15.759                   \n",
    "\n",
    "\n",
    "# LLO.lmich.value = 5.344\n",
    "# LLO.lschnupp.value = 0.085\n",
    "\n",
    "# LLO.PRM.Rc = 11\n",
    "# LLO.PR2.Rc = -4.555\n",
    "# LLO.PR3.Rc = 36\n",
    "# LLO.SRM.Rc = -5.6938\n",
    "# LLO.SR2.Rc = -6.427\n",
    "# LLO.SR3.Rc = 36\n",
    "# LLO.ETMX.Rc = 2242\n",
    "# LLO.ETMY.Rc = 2242\n",
    "# LLO.ITMX.Rc = -1934\n",
    "# LLO.ITMY.Rc = -1934\n",
    "\n",
    "# LLO.ITMX.T = 0.0148\n",
    "# LLO.ITMY.T = 0.0148\n",
    "# LLO.PRM.T = 0.031\n",
    "# LLO.BS.T = 0.5\n",
    "# LLO.PR2.T = 250e-6\n",
    "# LLO.PR3.T = 5e-6\n",
    "# LLO.SR3.T = 5e-6\n",
    "# LLO.SR2.T = 5e-6\n",
    "# LLO.SRM.T = 0.324\n",
    "# LLO.ETMX.T = 4e-6\n",
    "# LLO.ETMY.T = 4e-6\n",
    "\n",
    "# LLO.Mloss.value = 37.5e-6;\n",
    "# loss = 37.5e-6\n",
    "# LLO.BS.L = loss\n",
    "# LLO.PRM.L = loss*3\n",
    "# LLO.PR2.L = loss\n",
    "# LLO.PR3.L = loss\n",
    "# LLO.SR3.L = loss\n",
    "# LLO.SR2.L = loss\n",
    "# LLO.SRM.L = loss\n",
    "\n",
    "LLO.ETMX.L = 44e-6 # From Anamaria's email\n",
    "LLO.ETMY.L = 44e-6\n",
    "LLO.ITMX.L = 25e-6\n",
    "LLO.ITMY.L = 25e-6\n",
    "\n",
    "\n",
    "# LLO.ITMXAR.R = 20e-6\n",
    "# LLO.ITMYAR.R = 20e-6\n",
    "# LLO.BSAR1.R = 20e-6\n",
    "# LLO.PRMAR.R = 20e-6\n",
    "# # LLO.PR2.R = 20e-6\n",
    "# # LLO.PR3.R = 20e-6\n",
    "# # LLO.SR3.R = 20e-6\n",
    "# # LLO.SR2.R = 20e-6\n",
    "# LLO.SRMAR.R = 20e-6\n",
    "# LLO.ETMXAR.R = 20e-6\n",
    "# LLO.ETMYAR.R = 20e-6\n",
    "\n",
    "# LLO.ITMX.mass = 40\n",
    "# LLO.ITMY.mass = 40\n",
    "# LLO.BS.mass = 14\n",
    "# LLO.PRM.mass = 2.9\n",
    "# LLO.PR2.mass = 2.9\n",
    "# LLO.PR3.mass = 12\n",
    "# LLO.SR3.mass = 12\n",
    "# LLO.SR2.mass = 2.9\n",
    "# LLO.SRM.mass = 2.9\n",
    "# LLO.ETMX.mass = 40\n",
    "# LLO.ETMY.mass = 40\n",
    "\n",
    "# # LLO.OMCa.T = 0.01\n",
    "# # LLO.OMCa.L = 10e-6\n",
    "# # LLO.OMCa.ROC = 2.5\n",
    "# # LLO.OMCa.AoI = 0\n",
    "# # LLO.OMCa.Rar = 10e-6\n",
    "\n",
    "# LLO.mod1.midx = 0.14\n",
    "# LLO.mod2.midx = 0.15\n",
    "\n",
    "LLO.L0.P, LLO.lmich.value"
   ]
  },
  {
   "cell_type": "code",
   "execution_count": 7,
   "id": "f0b40dab",
   "metadata": {},
   "outputs": [
    {
     "name": "stdout",
     "output_type": "stream",
     "text": [
      "╒════════════════════════════╤════════════════╤════════════════╕\n",
      "│ Coupling                   │   Mismatch (x) │   Mismatch (y) │\n",
      "╞════════════════════════════╪════════════════╪════════════════╡\n",
      "│ BS.p1.i -> BS.p2.o         │    2.91307e-05 │    3.30789e-05 │\n",
      "├────────────────────────────┼────────────────┼────────────────┤\n",
      "│ BS.p2.i -> BS.p4.o         │    4.27427e-05 │    0.000637753 │\n",
      "├────────────────────────────┼────────────────┼────────────────┤\n",
      "│ BS.p2.i -> BS.p1.o         │    2.91307e-05 │    3.30789e-05 │\n",
      "├────────────────────────────┼────────────────┼────────────────┤\n",
      "│ BS.p3.i -> BS.p4.o         │    6.75304e-05 │    0.000448204 │\n",
      "├────────────────────────────┼────────────────┼────────────────┤\n",
      "│ BS.p4.i -> BS.p3.o         │    6.75304e-05 │    0.000448204 │\n",
      "├────────────────────────────┼────────────────┼────────────────┤\n",
      "│ BS.p4.i -> BS.p2.o         │    4.27427e-05 │    0.000637753 │\n",
      "├────────────────────────────┼────────────────┼────────────────┤\n",
      "│ ITMX.p1.i -> ITMX.p2.o     │    5.2382e-05  │    0.000115858 │\n",
      "├────────────────────────────┼────────────────┼────────────────┤\n",
      "│ ITMX.p2.i -> ITMX.p1.o     │    5.2382e-05  │    0.000115858 │\n",
      "├────────────────────────────┼────────────────┼────────────────┤\n",
      "│ ITMY.p1.i -> ITMY.p2.o     │    0.000126384 │    4.03857e-05 │\n",
      "├────────────────────────────┼────────────────┼────────────────┤\n",
      "│ ITMY.p2.i -> ITMY.p1.o     │    0.000126384 │    4.03857e-05 │\n",
      "├────────────────────────────┼────────────────┼────────────────┤\n",
      "│ OMC_IC.p1.i -> OMC_IC.p3.o │    0.0217916   │    0.0251652   │\n",
      "├────────────────────────────┼────────────────┼────────────────┤\n",
      "│ OMC_IC.p2.i -> OMC_IC.p4.o │    0.0217916   │    0.0251652   │\n",
      "├────────────────────────────┼────────────────┼────────────────┤\n",
      "│ OMC_IC.p3.i -> OMC_IC.p1.o │    0.0217916   │    0.0251652   │\n",
      "├────────────────────────────┼────────────────┼────────────────┤\n",
      "│ OMC_IC.p4.i -> OMC_IC.p2.o │    0.0217916   │    0.0251652   │\n",
      "╘════════════════════════════╧════════════════╧════════════════╛\n"
     ]
    }
   ],
   "source": [
    "LLO.print_mismatches()"
   ]
  },
  {
   "cell_type": "code",
   "execution_count": 8,
   "id": "7a7656d5",
   "metadata": {},
   "outputs": [
    {
     "name": "stdout",
     "output_type": "stream",
     "text": [
      "\n",
      "##################### The results: #####################\n",
      "The input power (into PRM) is 39.99588353876745 W\n",
      "The Refl port power is 2.250316846559399 W\n",
      "The PoP port power is 0.4633033295731256 W\n",
      "The AS port power is 0.3742439373281985 W\n",
      "\n",
      "The power in the carrier at PoP is 0.45256428692053896 W\n",
      "The power in the 9MHz upper sideband at PoP is 0.004730138128137707 W\n",
      "The power in the 9MHz lower sideband at PoP is 0.004730137572166747 W\n",
      "The power in the 45MHz upper sideband at PoP is 0.0006393887578968239 W\n",
      "The power in the 45MHz lower sideband at PoP is 0.0006393781943854505 W\n",
      "\n",
      "The power in the carrierz at Refl is 1.9079501774804275 W\n",
      "The power in the 9MHz upper sideband at Refl is 0.1451411223277213 W\n",
      "The power in the 9MHz lower sideband at Refl is 0.14514109488256594 W\n",
      "The power in the 45MHz upper sideband at Refl is 0.026041881662421523 W\n",
      "The power in the 45MHz lower sideband at Refl is 0.02604257020626239 W\n",
      "\n",
      "The power in the carrier at AS is 0.04510970190964393 W\n",
      "The power in the 9MHz upper sideband at AS is 0.0005312782928738404 W\n",
      "The power in the 9MHz lower sideband at AS is 0.0005313078116755675 W\n",
      "The power in the 45MHz upper sideband at AS is 0.1640361447293715 W\n",
      "The power in the 45MHz lower sideband at AS is 0.16403550458463373 W\n"
     ]
    }
   ],
   "source": [
    "# kat1 = LLO.deepcopy()\n",
    "kat1 = LLO.deepcopy()\n",
    "kat1.DARM.DC = 0.0033834586466165405/2 # So that the DARM offset is 10 pm. (check?)\n",
    "kat1.parse(\"\"\"\n",
    "pd Pin PRMAR.p1.i\n",
    "pd PRefl PRMAR.p1.o\n",
    "pd PPoP PR2.p3.o\n",
    "pd PAS SRMAR.p2.o\n",
    "\n",
    "\n",
    "ad PoPC PR2.p3.o f=0\n",
    "ad PoP9P PR2.p3.o f=&f1\n",
    "ad PoP9M PR2.p3.o f=-&f1\n",
    "ad PoP45P PR2.p3.o f=&f2\n",
    "ad PoP45M PR2.p3.o f=-&f2\n",
    "\n",
    "\n",
    "ad ReflC PRMAR.p1.o f=0\n",
    "ad Refl9P PRMAR.p1.o f=&f1\n",
    "ad Refl9M PRMAR.p1.o f=-&f1\n",
    "ad Refl45P PRMAR.p1.o f=&f2\n",
    "ad Refl45M PRMAR.p1.o f=-&f2\n",
    "\n",
    "ad ASC SRMAR.p2.o f=0\n",
    "ad AS9P SRMAR.p2.o f=&f1\n",
    "ad AS9M SRMAR.p2.o f=-&f1\n",
    "ad AS45P SRMAR.p2.o f=&f2\n",
    "ad AS45M SRMAR.p2.o f=-&f2\n",
    "\"\"\")\n",
    "\n",
    "# outLLO1 = kat1.run(Noxaxis(pre_step=RunLocks(method='newton', \n",
    "#                                             display_progress=True,\n",
    "#                                             max_iterations=1000)))\n",
    "\n",
    "outLLO1 = kat1.run(Noxaxis())\n",
    "\n",
    "print()\n",
    "print(\"##################### The results: #####################\")\n",
    "print(f\"The input power (into PRM) is {outLLO1['Pin']} W\")\n",
    "print(f\"The Refl port power is {outLLO1['PRefl']} W\")\n",
    "print(f\"The PoP port power is {outLLO1['PPoP']} W\")\n",
    "print(f\"The AS port power is {outLLO1['PAS']} W\")\n",
    "\n",
    "print()\n",
    "\n",
    "print(f\"The power in the carrier at PoP is {np.abs(outLLO1['PoPC'])**2} W\")\n",
    "print(f\"The power in the 9MHz upper sideband at PoP is {np.abs(outLLO1['PoP9P'])**2} W\")\n",
    "print(f\"The power in the 9MHz lower sideband at PoP is {np.abs(outLLO1['PoP9M'])**2} W\")\n",
    "print(f\"The power in the 45MHz upper sideband at PoP is {np.abs(outLLO1['PoP45P'])**2} W\")\n",
    "print(f\"The power in the 45MHz lower sideband at PoP is {np.abs(outLLO1['PoP45M'])**2} W\")\n",
    "print()\n",
    "\n",
    "print(f\"The power in the carrierz at Refl is {np.abs(outLLO1['ReflC'])**2} W\")\n",
    "print(f\"The power in the 9MHz upper sideband at Refl is {np.abs(outLLO1['Refl9P'])**2} W\")\n",
    "print(f\"The power in the 9MHz lower sideband at Refl is {np.abs(outLLO1['Refl9M'])**2} W\")\n",
    "print(f\"The power in the 45MHz upper sideband at Refl is {np.abs(outLLO1['Refl45P'])**2} W\")\n",
    "print(f\"The power in the 45MHz lower sideband at Refl is {np.abs(outLLO1['Refl45M'])**2} W\")\n",
    "print()\n",
    "\n",
    "print(f\"The power in the carrier at AS is {np.abs(outLLO1['ASC'])**2} W\")\n",
    "print(f\"The power in the 9MHz upper sideband at AS is {np.abs(outLLO1['AS9P'])**2} W\")\n",
    "print(f\"The power in the 9MHz lower sideband at AS is {np.abs(outLLO1['AS9M'])**2} W\")\n",
    "print(f\"The power in the 45MHz upper sideband at AS is {np.abs(outLLO1['AS45P'])**2} W\")\n",
    "print(f\"The power in the 45MHz lower sideband at AS is {np.abs(outLLO1['AS45M'])**2} W\")"
   ]
  },
  {
   "cell_type": "code",
   "execution_count": null,
   "id": "c397914c",
   "metadata": {},
   "outputs": [],
   "source": []
  },
  {
   "cell_type": "markdown",
   "id": "8e9b0971",
   "metadata": {},
   "source": [
    "## Power recyling gain: the ratio of stored laser power in the power-recycling cavity to input laser power\n",
    "\n",
    "\n",
    "$$\\mathrm{PRG = \\frac{P_{circ\\, in\\, PRC}}{P_{in}}}$$"
   ]
  },
  {
   "cell_type": "code",
   "execution_count": 16,
   "id": "b6e47ff6",
   "metadata": {},
   "outputs": [
    {
     "name": "stdout",
     "output_type": "stream",
     "text": [
      "\n",
      "##################### The results: #####################\n",
      "The input power (into PRM) is 39.99588353876745 W\n",
      "The PRC circulating power is 1906.5980640869361 W\n",
      "Their ratio (PRG) is 47.669857380170065\n"
     ]
    }
   ],
   "source": [
    "# kat2 = LLO.deepcopy()\n",
    "kat2 = LLO.deepcopy()\n",
    "kat2.DARM.DC = 0.0033834586466165405/2 # So that the DARM offset is 10 pm. (check?)\n",
    "\n",
    "kat2.parse(\"\"\"\n",
    "pd Pin PRMAR.p1.i\n",
    "pd Pcirc PRM.p2.o\n",
    "#pd Pcirc PR2.p2.o\n",
    "\n",
    "\"\"\")\n",
    "\n",
    "# outLLO2 = kat2.run(Noxaxis(pre_step=RunLocks(method='newton', \n",
    "#                                             display_progress=True,\n",
    "#                                             max_iterations=1000)))\n",
    "\n",
    "outLLO2 = kat2.run(Noxaxis())\n",
    "\n",
    "print()\n",
    "print(\"##################### The results: #####################\")\n",
    "\n",
    "print(f\"The input power (into PRM) is {outLLO2['Pin']} W\")\n",
    "print(f\"The PRC circulating power is {outLLO2['Pcirc']} W\")\n",
    "print(f\"Their ratio (PRG) is {outLLO2['Pcirc']/outLLO2['Pin']}\")"
   ]
  },
  {
   "cell_type": "code",
   "execution_count": null,
   "id": "1d15b76a",
   "metadata": {},
   "outputs": [],
   "source": []
  },
  {
   "cell_type": "code",
   "execution_count": null,
   "id": "c8719aaa",
   "metadata": {},
   "outputs": [],
   "source": []
  },
  {
   "cell_type": "code",
   "execution_count": null,
   "id": "9e1563bc",
   "metadata": {},
   "outputs": [],
   "source": []
  },
  {
   "cell_type": "code",
   "execution_count": null,
   "id": "cd344590",
   "metadata": {},
   "outputs": [],
   "source": []
  },
  {
   "cell_type": "code",
   "execution_count": null,
   "id": "33f7f3f5",
   "metadata": {},
   "outputs": [],
   "source": []
  }
 ],
 "metadata": {
  "kernelspec": {
   "display_name": "Python 3 (ipykernel)",
   "language": "python",
   "name": "python3"
  },
  "language_info": {
   "codemirror_mode": {
    "name": "ipython",
    "version": 3
   },
   "file_extension": ".py",
   "mimetype": "text/x-python",
   "name": "python",
   "nbconvert_exporter": "python",
   "pygments_lexer": "ipython3",
   "version": "3.8.12"
  }
 },
 "nbformat": 4,
 "nbformat_minor": 5
}
